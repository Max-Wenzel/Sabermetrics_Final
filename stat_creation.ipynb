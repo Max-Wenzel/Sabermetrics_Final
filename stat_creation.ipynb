{
 "cells": [
  {
   "cell_type": "code",
   "execution_count": 1,
   "metadata": {},
   "outputs": [],
   "source": [
    "import pandas as pd\n",
    "import numpy as np"
   ]
  },
  {
   "cell_type": "markdown",
   "metadata": {},
   "source": [
    "## Max Wenzel\n",
    "# BPC: Batter Performance Correlation\n",
    "\n",
    "For this stat I will be using a combination of several stats into one and then examining the correlation of this stat with time to decide if a batter is getting better or worse over time.\n"
   ]
  },
  {
   "cell_type": "code",
   "execution_count": 342,
   "metadata": {},
   "outputs": [],
   "source": [
    "b_d = pd.read_csv(\"data/batter_data.csv\")"
   ]
  },
  {
   "cell_type": "code",
   "execution_count": 343,
   "metadata": {},
   "outputs": [],
   "source": [
    "at_bats = b_d[[\"playerID\", \"AB\"]].copy()\n",
    "\n",
    "for ind,row in at_bats.groupby(\"playerID\").sum().iterrows(): # Get only the players that have a total of at least 1200 at bats\n",
    "    if row[\"AB\"] < 1200:\n",
    "        b_d = b_d[b_d.playerID != ind]\n",
    "        # Calc slugging percentage\n",
    "\n",
    "b_d[\"SLG\"] = ((b_d[\"H\"] - (b_d[\"2B\"] + b_d[\"3B\"] + b_d[\"HR\"])) + 2 * b_d[\"2B\"] + 3 * b_d[\"3B\"] + 4 * b_d[\"HR\"])/b_d[\"AB\"]\n",
    "# calc OBP\n",
    "b_d[\"OBP\"] = (b_d['H'] + b_d[\"BB\"] + b_d[\"HBP\"])/(b_d[\"AB\"] + b_d[\"BB\"] + b_d[\"SF\"] + b_d[\"HBP\"])"
   ]
  },
  {
   "cell_type": "code",
   "execution_count": 344,
   "metadata": {},
   "outputs": [],
   "source": [
    "b_d[\"BA\"] = b_d[\"H\"]/b_d[\"AB\"]\n",
    "b_d[\"BABIP\"] = (b_d[\"H\"] -b_d[\"HR\"])/(b_d[\"AB\"] - b_d[\"SO\"] - b_d[\"HR\"] + b_d[\"SF\"])\n",
    "# get the OPS\n",
    "\n",
    "b_d[\"OPS\"] = b_d[\"OBP\"] + b_d[\"SLG\"]"
   ]
  },
  {
   "cell_type": "code",
   "execution_count": 345,
   "metadata": {},
   "outputs": [],
   "source": [
    "# Avoid nasty zeros \n",
    "b_d.loc[b_d[\"DPHt\"] == 0, \"DPHh\"] = 0\n",
    "b_d.loc[b_d[\"DPHt\"] == 0, \"DPHt\"] = 1\n",
    "\n",
    "b_d.loc[b_d[\"FBHt\"] == 0, \"FBHh\"] = 0\n",
    "b_d.loc[b_d[\"FBHt\"] == 0, \"FBHt\"] = 1\n",
    "\n",
    "b_d.loc[b_d[\"BCAt\"] == 0, \"BCAh\"] = 0\n",
    "b_d.loc[b_d[\"BCAt\"] == 0, \"BCAt\"] = 1"
   ]
  },
  {
   "cell_type": "code",
   "execution_count": 346,
   "metadata": {},
   "outputs": [],
   "source": [
    "# calc percentage stats\n",
    "b_d[\"RBI/AB\"] = b_d[\"RBI\"]/b_d[\"AB\"]\n",
    "b_d[\"DPH\"] = b_d[\"DPHh\"]/b_d[\"DPHt\"]\n",
    "b_d[\"FBH\"] = b_d[\"FBHh\"]/b_d[\"FBHt\"]\n",
    "b_d[\"BCA\"] = b_d[\"BCAh\"]/b_d[\"BCAt\"]"
   ]
  },
  {
   "cell_type": "code",
   "execution_count": 347,
   "metadata": {},
   "outputs": [],
   "source": [
    "b_d = b_d[[\"playerID\", \"yearID\", \"nameLast\", \"nameFirst\", \"OPS\", \"RBI/AB\", \"DPH\", \"FBH\", \"BCA\", \"R\", \"BA\", \"BABIP\"]]"
   ]
  },
  {
   "cell_type": "code",
   "execution_count": 348,
   "metadata": {},
   "outputs": [],
   "source": [
    "# Some strange happenings caused the DPH value to often go awry so I had to ultimately exclude it form the megastat\n",
    "b_d[\"bpcsum\"] = b_d[\"OPS\"] + b_d[\"RBI/AB\"] + b_d[\"FBH\"] + b_d[\"BCA\"]#+ b_d[\"DPH\"] "
   ]
  },
  {
   "cell_type": "code",
   "execution_count": 349,
   "metadata": {},
   "outputs": [],
   "source": [
    "b_d[\"name\"] = b_d[\"nameFirst\"] +\",\"+ b_d[\"nameLast\"]"
   ]
  },
  {
   "cell_type": "code",
   "execution_count": 350,
   "metadata": {
    "scrolled": true
   },
   "outputs": [
    {
     "name": "stdout",
     "output_type": "stream",
     "text": [
      "Actual 0.4186046511627907\n",
      "Pred: 0.8465116279069768\n",
      "Accur 0.4697674418604651\n"
     ]
    }
   ],
   "source": [
    "def calc_BPC(df, name):\n",
    "    f,l = name.split(\",\")\n",
    "    play = df.loc[(df[\"nameLast\"] == l) & (df[\"nameFirst\"] == f) & (df[\"yearID\"] < 2018)]\n",
    "    comb = play[\"bpcsum\"].corr(play[\"yearID\"])\n",
    "\n",
    "    play = df.loc[(df[\"nameLast\"] == l) & (df[\"nameFirst\"] == f) & (df[\"yearID\"] > 2015)]\n",
    "\n",
    "    com = play[\"bpcsum\"].corr(play[\"yearID\"])\n",
    "    \n",
    "    pred = comb * 100\n",
    "    actu = com * 100\n",
    "    if pred < 0:\n",
    "        pred = False\n",
    "    else:\n",
    "        pred = True\n",
    "    if actu < 0:\n",
    "        actu = False\n",
    "    else:\n",
    "        actu = True\n",
    "    return  (pred, actu)\n",
    "\n",
    "\n",
    "names = list(set(b_d[\"name\"]))\n",
    "tot = []\n",
    "for nam in names:\n",
    "    a, b = calc_BPC(b_d, nam)\n",
    "    #print(a,b)\n",
    "    tot.append([a,b])\n",
    "\n",
    "pred = [x[0]  for x in tot]\n",
    "actu = [x[1]  for x in tot]\n",
    "res = [x[0] == x[1] for x in tot]\n",
    "\n",
    "\n",
    "\n",
    "print(\"Actual\",sum(actu)/len(actu))\n",
    "\n",
    "print(\"Pred:\",sum(pred)/len(pred))\n",
    "\n",
    "print(\"Accur\",sum(res)/len(res))"
   ]
  },
  {
   "cell_type": "markdown",
   "metadata": {},
   "source": [
    "Oh no! Looks like the predictor stat I spent all this time on is actually an terrible predictor. You'd be better off flipping a coin to decide. All hope is not lost, while my original plan of having a good predictor failed, I in the process created a rather good indicator of skill, to show this I can for one take a look at the top players ranked by this statistic."
   ]
  },
  {
   "cell_type": "code",
   "execution_count": 356,
   "metadata": {},
   "outputs": [],
   "source": [
    "b_d = b_d.sort_values(\"bpcsum\", ascending=False)"
   ]
  },
  {
   "cell_type": "code",
   "execution_count": 357,
   "metadata": {
    "scrolled": true
   },
   "outputs": [
    {
     "data": {
      "text/html": [
       "<div>\n",
       "<style scoped>\n",
       "    .dataframe tbody tr th:only-of-type {\n",
       "        vertical-align: middle;\n",
       "    }\n",
       "\n",
       "    .dataframe tbody tr th {\n",
       "        vertical-align: top;\n",
       "    }\n",
       "\n",
       "    .dataframe thead th {\n",
       "        text-align: right;\n",
       "    }\n",
       "</style>\n",
       "<table border=\"1\" class=\"dataframe\">\n",
       "  <thead>\n",
       "    <tr style=\"text-align: right;\">\n",
       "      <th></th>\n",
       "      <th>playerID</th>\n",
       "      <th>yearID</th>\n",
       "      <th>nameLast</th>\n",
       "      <th>nameFirst</th>\n",
       "      <th>OPS</th>\n",
       "      <th>RBI/AB</th>\n",
       "      <th>DPH</th>\n",
       "      <th>FBH</th>\n",
       "      <th>BCA</th>\n",
       "      <th>R</th>\n",
       "      <th>BA</th>\n",
       "      <th>BABIP</th>\n",
       "      <th>bpcsum</th>\n",
       "      <th>name</th>\n",
       "    </tr>\n",
       "  </thead>\n",
       "  <tbody>\n",
       "    <tr>\n",
       "      <th>828</th>\n",
       "      <td>martijd02</td>\n",
       "      <td>2017</td>\n",
       "      <td>Martinez</td>\n",
       "      <td>J. D.</td>\n",
       "      <td>1.066093</td>\n",
       "      <td>0.240741</td>\n",
       "      <td>1.000000</td>\n",
       "      <td>0.238095</td>\n",
       "      <td>0.679803</td>\n",
       "      <td>85</td>\n",
       "      <td>0.303241</td>\n",
       "      <td>0.326996</td>\n",
       "      <td>2.224732</td>\n",
       "      <td>J. D.,Martinez</td>\n",
       "    </tr>\n",
       "    <tr>\n",
       "      <th>1393</th>\n",
       "      <td>vottojo01</td>\n",
       "      <td>2017</td>\n",
       "      <td>Votto</td>\n",
       "      <td>Joey</td>\n",
       "      <td>1.031849</td>\n",
       "      <td>0.178891</td>\n",
       "      <td>1.080000</td>\n",
       "      <td>0.206897</td>\n",
       "      <td>0.799020</td>\n",
       "      <td>106</td>\n",
       "      <td>0.320215</td>\n",
       "      <td>0.320628</td>\n",
       "      <td>2.216656</td>\n",
       "      <td>Joey,Votto</td>\n",
       "    </tr>\n",
       "    <tr>\n",
       "      <th>1354</th>\n",
       "      <td>troutmi01</td>\n",
       "      <td>2018</td>\n",
       "      <td>Trout</td>\n",
       "      <td>Mike</td>\n",
       "      <td>1.088088</td>\n",
       "      <td>0.167728</td>\n",
       "      <td>0.540541</td>\n",
       "      <td>0.203390</td>\n",
       "      <td>0.750000</td>\n",
       "      <td>101</td>\n",
       "      <td>0.312102</td>\n",
       "      <td>0.346154</td>\n",
       "      <td>2.209206</td>\n",
       "      <td>Mike,Trout</td>\n",
       "    </tr>\n",
       "    <tr>\n",
       "      <th>596</th>\n",
       "      <td>harpebr03</td>\n",
       "      <td>2015</td>\n",
       "      <td>Harper</td>\n",
       "      <td>Bryce</td>\n",
       "      <td>1.108997</td>\n",
       "      <td>0.190019</td>\n",
       "      <td>0.283951</td>\n",
       "      <td>0.161972</td>\n",
       "      <td>0.697704</td>\n",
       "      <td>118</td>\n",
       "      <td>0.330134</td>\n",
       "      <td>0.369318</td>\n",
       "      <td>2.158692</td>\n",
       "      <td>Bryce,Harper</td>\n",
       "    </tr>\n",
       "    <tr>\n",
       "      <th>109</th>\n",
       "      <td>bettsmo01</td>\n",
       "      <td>2018</td>\n",
       "      <td>Betts</td>\n",
       "      <td>Mookie</td>\n",
       "      <td>1.078495</td>\n",
       "      <td>0.153846</td>\n",
       "      <td>0.457831</td>\n",
       "      <td>0.184211</td>\n",
       "      <td>0.742038</td>\n",
       "      <td>129</td>\n",
       "      <td>0.346154</td>\n",
       "      <td>0.368159</td>\n",
       "      <td>2.158590</td>\n",
       "      <td>Mookie,Betts</td>\n",
       "    </tr>\n",
       "  </tbody>\n",
       "</table>\n",
       "</div>"
      ],
      "text/plain": [
       "       playerID  yearID  nameLast nameFirst       OPS    RBI/AB       DPH  \\\n",
       "828   martijd02    2017  Martinez     J. D.  1.066093  0.240741  1.000000   \n",
       "1393  vottojo01    2017     Votto      Joey  1.031849  0.178891  1.080000   \n",
       "1354  troutmi01    2018     Trout      Mike  1.088088  0.167728  0.540541   \n",
       "596   harpebr03    2015    Harper     Bryce  1.108997  0.190019  0.283951   \n",
       "109   bettsmo01    2018     Betts    Mookie  1.078495  0.153846  0.457831   \n",
       "\n",
       "           FBH       BCA    R        BA     BABIP    bpcsum            name  \n",
       "828   0.238095  0.679803   85  0.303241  0.326996  2.224732  J. D.,Martinez  \n",
       "1393  0.206897  0.799020  106  0.320215  0.320628  2.216656      Joey,Votto  \n",
       "1354  0.203390  0.750000  101  0.312102  0.346154  2.209206      Mike,Trout  \n",
       "596   0.161972  0.697704  118  0.330134  0.369318  2.158692    Bryce,Harper  \n",
       "109   0.184211  0.742038  129  0.346154  0.368159  2.158590    Mookie,Betts  "
      ]
     },
     "execution_count": 357,
     "metadata": {},
     "output_type": "execute_result"
    }
   ],
   "source": [
    "b_d.head()"
   ]
  },
  {
   "cell_type": "markdown",
   "metadata": {},
   "source": [
    "The top ranked players here are indeed players that are considered to be some of the best\n",
    "\n",
    "Furthermore, I can show how this stat correlates with other popular stats"
   ]
  },
  {
   "cell_type": "code",
   "execution_count": 358,
   "metadata": {},
   "outputs": [
    {
     "data": {
      "text/plain": [
       "0.4861411727247345"
      ]
     },
     "execution_count": 358,
     "metadata": {},
     "output_type": "execute_result"
    }
   ],
   "source": [
    "b_d[\"bpcsum\"].corr(b_d[\"BA\"])"
   ]
  },
  {
   "cell_type": "code",
   "execution_count": 359,
   "metadata": {},
   "outputs": [
    {
     "data": {
      "text/plain": [
       "0.30677316211762534"
      ]
     },
     "execution_count": 359,
     "metadata": {},
     "output_type": "execute_result"
    }
   ],
   "source": [
    "b_d[\"bpcsum\"].corr(b_d[\"BABIP\"])"
   ]
  },
  {
   "cell_type": "code",
   "execution_count": 361,
   "metadata": {},
   "outputs": [
    {
     "data": {
      "text/plain": [
       "0.5344645187759932"
      ]
     },
     "execution_count": 361,
     "metadata": {},
     "output_type": "execute_result"
    }
   ],
   "source": [
    "b_d[\"bpcsum\"].corr(b_d[\"R\"])"
   ]
  },
  {
   "cell_type": "markdown",
   "metadata": {},
   "source": [
    "You can see that it is somewhat correlated to the stats above but not exactly which I believe is due to BPCsum incorporating the more skill based abilities such as hitting particularly fast balls and knowing when or not to swing at a ball."
   ]
  },
  {
   "cell_type": "code",
   "execution_count": 151,
   "metadata": {},
   "outputs": [],
   "source": [
    "def get_players(b_d):\n",
    "    names = list(set(b_d[\"name\"]))\n",
    "    np.random.shuffle(names)\n",
    "    for ii in range(20):\n",
    "        print(names[ii])"
   ]
  },
  {
   "cell_type": "code",
   "execution_count": null,
   "metadata": {},
   "outputs": [],
   "source": []
  }
 ],
 "metadata": {
  "kernelspec": {
   "display_name": "Python 3",
   "language": "python",
   "name": "python3"
  },
  "language_info": {
   "codemirror_mode": {
    "name": "ipython",
    "version": 3
   },
   "file_extension": ".py",
   "mimetype": "text/x-python",
   "name": "python",
   "nbconvert_exporter": "python",
   "pygments_lexer": "ipython3",
   "version": "3.6.5"
  }
 },
 "nbformat": 4,
 "nbformat_minor": 2
}
