{
 "cells": [
  {
   "cell_type": "markdown",
   "metadata": {},
   "source": [
    "This is the code for loading the batters' data from the lahman database that have data for all five years I am using (2014-2017 for the statistic and 2018 for evaluation).\n",
    "\n",
    "### IMPORTANT NOTE\n",
    "This code requires data thats way too big to be included in this repo so you'd have to do some serious downloading if you want to test the code on your own. I have however included the file that this code outputs."
   ]
  },
  {
   "cell_type": "code",
   "execution_count": 77,
   "metadata": {},
   "outputs": [],
   "source": [
    "import pandas as pd\n",
    "import numpy as np\n",
    "\n",
    "batting = pd.read_csv(\"data/Batting.csv\")\n",
    "players = pd.read_csv(\"data/People.csv\")\n",
    "\n",
    "batter_data = pd.merge(batting, players[[\"playerID\", \"nameLast\", \"nameFirst\"]], on=\"playerID\")\n",
    "\n",
    "batter_data = batter_data.loc[batter_data[\"yearID\"]>=2014]\n",
    "\n",
    "players = set(list(batter_data[\"playerID\"]))\n",
    "\n",
    "tot = 0\n",
    "for play in players: # Remove players that don't appear in all years\n",
    "    for ii in range(2014,2019):\n",
    "        if len(batter_data.loc[(batter_data[\"playerID\"] == play) & (batter_data[\"yearID\"] == ii)]) == 0:\n",
    "            batter_data = batter_data[batter_data.playerID != play]\n",
    "            break\n",
    "\n",
    "at_bats = batter_data[[\"playerID\", \"AB\"]].copy()\n",
    "\n",
    "for ind,row in at_bats.groupby(\"playerID\").sum().iterrows(): # Get only the players that have a total of at least 200 at bats\n",
    "    if row[\"AB\"] < 200:\n",
    "        batter_data = batter_data[batter_data.playerID != ind]\n",
    "\n",
    "players = set(batter_data[\"playerID\"])\n",
    "\n",
    "\n",
    "\n",
    "batter_data = batter_data.drop(columns=[\"teamID\", \"lgID\", \"stint\"]) # I don't need these\n",
    "\n",
    "\n",
    "batter_data[\"pyearID\"] = batter_data[\"yearID\"].apply(str) + batter_data[\"playerID\"] # combined column for grouping\n",
    "\n",
    "ag_key = {\"playerID\": \"first\", \"yearID\": \"first\", 'nameLast': \"first\", 'nameFirst': \"first\",'G':np.sum, 'AB':np.sum, 'R':np.sum, 'H':np.sum, '2B':np.sum, '3B':np.sum, 'HR':np.sum, 'RBI':np.sum, 'SB':np.sum, 'CS':np.sum, 'BB': np.sum, 'SO':np.sum, 'IBB':np.sum, 'HBP':np.sum, 'SH':np.sum, 'SF':np.sum, 'GIDP':np.sum}\n",
    "# this is a custome aggreation so that players who played on more than one team in a year only have one entry in that year\n",
    "# with their combine stats\n",
    "batter_data = batter_data.groupby(\"pyearID\").agg(ag_key).set_index(\"playerID\") \n",
    "\n",
    "batter_data = batter_data.reset_index()\n",
    "\n",
    "master = pd.read_csv(\"data/idkey.csv\")\n",
    "\n",
    "batter_data = pd.merge(batter_data, master, on=\"playerID\")"
   ]
  },
  {
   "cell_type": "markdown",
   "metadata": {},
   "source": [
    "Statcast stats\n",
    "### Difficult pitches hit: DPH%\n",
    "curve, split, screw, and knuckle balls hit \n",
    "\n",
    "### Fast balls hit: FBH%\n",
    "percentage of balls over 95mph hit\n",
    "\n",
    "### Ball call ability BCA\n",
    "percentage of balls pitched outside of strike zone and correctly not swung at"
   ]
  },
  {
   "cell_type": "markdown",
   "metadata": {},
   "source": [
    "I found the best way to store these stats is similar to how other stats are stored in the Lahman database in that I am storing the ones that qualify as a hit or a ball and then counting the total so that these two stats can be used to get the "
   ]
  },
  {
   "cell_type": "code",
   "execution_count": 136,
   "metadata": {},
   "outputs": [
    {
     "ename": "SyntaxError",
     "evalue": "invalid syntax (<ipython-input-136-3671bd2f2f37>, line 3)",
     "output_type": "error",
     "traceback": [
      "\u001b[1;36m  File \u001b[1;32m\"<ipython-input-136-3671bd2f2f37>\"\u001b[1;36m, line \u001b[1;32m3\u001b[0m\n\u001b[1;33m    2017: [\"sev1.csv\",\"sev2.csv\",\"sev3.csv\"] 2018:[\"eig1.csv\", \"eig2.csv\", \"eig3.csv\"]}\u001b[0m\n\u001b[1;37m                                                ^\u001b[0m\n\u001b[1;31mSyntaxError\u001b[0m\u001b[1;31m:\u001b[0m invalid syntax\n"
     ]
    }
   ],
   "source": [
    "# I had to hand modify the 2017 and 2018 files as they were raising strange type assumption errors with all columns present\n",
    "years = {2014: [\"fourteen1.csv\", \"fourteen2.csv\", \"fourteen3.csv\"], 2015: [\"fifteen1.csv\", \"fifteen2.csv\"],2016: [\"sixteen1.csv\", \"sixteen2.csv\", \"sixteen3.csv\"],\n",
    "    2017: [\"sev1.csv\",\"sev2.csv\",\"sev3.csv\"], 2018:[\"eig1.csv\", \"eig2.csv\", \"eig3.csv\"]}\n",
    "for x in years:\n",
    "    for ii in range(len(years[x])):\n",
    "        years[x][ii] = \"data/\" + years[x][ii]"
   ]
  },
  {
   "cell_type": "code",
   "execution_count": 95,
   "metadata": {},
   "outputs": [],
   "source": [
    "batter_data[\"DPHh\"] = 0 # intialize the statcast based stats\n",
    "batter_data[\"DPHt\"] = 0\n",
    "batter_data[\"BCAh\"] = 0\n",
    "batter_data[\"BCAt\"] = 0\n",
    "batter_data[\"FBHh\"] = 0\n",
    "batter_data[\"FBHt\"] = 0"
   ]
  },
  {
   "cell_type": "code",
   "execution_count": 96,
   "metadata": {},
   "outputs": [],
   "source": [
    "pitches = [\"CU\", \"FS\", \"KN\", \"SC\", \"KC\"] # The difficult pitches\n",
    "soz = [\"11\", \"12\", \"13\",\"14\"] # These are the zones outside the strike box"
   ]
  },
  {
   "cell_type": "code",
   "execution_count": 97,
   "metadata": {},
   "outputs": [],
   "source": [
    "players = set(batter_data[\"mlb_id\"])"
   ]
  },
  {
   "cell_type": "code",
   "execution_count": 102,
   "metadata": {},
   "outputs": [],
   "source": [
    "# functions for calcuating each stat\n",
    "def dph(df, playerID):\n",
    "    tot = df.loc[(df[\"batter\"] == playerID) & df[\"pitch_type\"].isin(pitches)]\n",
    "    hits = len(tot.loc[(tot[\"type\"] == \"X\")])\n",
    "    return hits, len(tot)\n",
    "def fbh(df, playerID):\n",
    "    tot = df.loc[(df[\"batter\"] == playerID) & (df[\"release_speed\"] > 95)]\n",
    "    hits = len(tot.loc[(tot[\"type\"] == \"X\")])\n",
    "    return hits, len(tot)\n",
    "def bca(df, playerID):\n",
    "    alls = df.loc[(df[\"batter\"] == playerID) & df[\"zone\"].isin(soz)]\n",
    "    balls = len(alls.loc[(alls[\"type\"] == \"B\")])\n",
    "    return balls, len(alls)"
   ]
  },
  {
   "cell_type": "code",
   "execution_count": 133,
   "metadata": {},
   "outputs": [
    {
     "name": "stdout",
     "output_type": "stream",
     "text": [
      "2018\n",
      "40\n",
      "80\n",
      "120\n",
      "160\n",
      "200\n",
      "240\n",
      "280\n"
     ]
    }
   ],
   "source": [
    "for year in years: # query all the statcast files for all the players\n",
    "    print(year) # this took way too long to run\n",
    "    ii = 0\n",
    "    for ID in players:\n",
    "        ii += 1\n",
    "        if ii % 40 == 0:\n",
    "            print(ii)\n",
    "        dhi = 0\n",
    "        dto = 0\n",
    "        fhi = 0\n",
    "        fto = 0\n",
    "        bhi = 0\n",
    "        bto = 0\n",
    "        for file in years[year]:\n",
    "            df = pd.read_csv(file, dtype={\"batter\": int, \"zone\": float, \"type\": str, \"release_speed\": float, \"pitch_type\": str})\n",
    "            dh, dt = dph(df, ID)\n",
    "            fh, ft = fbh(df, ID)\n",
    "            bh, bt = bca(df, ID)\n",
    "            dhi += dh\n",
    "            dto += dt\n",
    "            fhi += fh\n",
    "            fto += ft\n",
    "            bhi += bh\n",
    "            bto += bt\n",
    "        batter_data.loc[(batter_data[\"yearID\"] == year) & (batter_data[\"mlb_id\"] == ID), \"DPHh\"] += dhi\n",
    "        batter_data.loc[(batter_data[\"yearID\"] == year) & (batter_data[\"mlb_id\"] == ID), \"DPHt\"] += dt\n",
    "        batter_data.loc[(batter_data[\"yearID\"] == year) & (batter_data[\"mlb_id\"] == ID), \"BCAh\"] += bh\n",
    "        batter_data.loc[(batter_data[\"yearID\"] == year) & (batter_data[\"mlb_id\"] == ID), \"BCAt\"] += bt\n",
    "        batter_data.loc[(batter_data[\"yearID\"] == year) & (batter_data[\"mlb_id\"] == ID), \"FBHh\"] += fh\n",
    "        batter_data.loc[(batter_data[\"yearID\"] == year) & (batter_data[\"mlb_id\"] == ID), \"FBHt\"] += ft\n",
    "            "
   ]
  },
  {
   "cell_type": "code",
   "execution_count": 135,
   "metadata": {},
   "outputs": [],
   "source": [
    "batter_data.to_csv(\"batter_data.csv\") # save the gathered data so that the above code may never be ran again "
   ]
  }
 ],
 "metadata": {
  "kernelspec": {
   "display_name": "Python 3",
   "language": "python",
   "name": "python3"
  },
  "language_info": {
   "codemirror_mode": {
    "name": "ipython",
    "version": 3
   },
   "file_extension": ".py",
   "mimetype": "text/x-python",
   "name": "python",
   "nbconvert_exporter": "python",
   "pygments_lexer": "ipython3",
   "version": "3.6.5"
  }
 },
 "nbformat": 4,
 "nbformat_minor": 2
}
